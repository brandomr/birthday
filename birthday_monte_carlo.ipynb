{
 "cells": [
  {
   "cell_type": "markdown",
   "metadata": {},
   "source": [
    "<img style=\"float: left;\" src=\"http://emojis.slackmojis.com/emojis/images/1450694616/220/bananadance.gif?1450694616\">\n",
    "\n",
    "# The birthday problem\n",
    "\n",
    "How many people do you need to get in the same room before it becomes more likely than not that two people in the room share a birthday? (Not the same year, just the same month/day).\n",
    "\n",
    "The answer is pretty counterintuitive so my friend Shawn and I put this quick Monte Carlo together to solve the problem.\n",
    "\n",
    "Basically, it takes far fewer people in a room to find a matching birthday than you would imagine: with **only 23** people in a room you are more likely than not to find that two people have the same birthday.\n",
    "\n",
    "### How is this possible?\n",
    "When there are 23 people in the room you actually can make **253** comparisons\n",
    "\n",
    "$$ comparisons = \\dfrac{23*22}{2}$$ \n",
    "\n",
    "So the probability that with 23 people in the room you'll have a match is\n",
    "\n",
    "$$ probability = \\Bigg(\\dfrac{364}{365}\\Bigg)^{253}$$ \n",
    "\n",
    "which is about 50%. With 23 people in the room you'll have a match 53% of the time. Go figure. The best way to think of this intuitively is that when you walk in a room you might compare your birthday to the other 23 people; you need to also consider the comparisons that every other person will make against the rest of the room. That's a lot of comparisons. \n",
    "\n",
    "Just to gut check ourselves, let's Monte Carlo this sucker. \n",
    "\n",
    "### What's a Monte Carlo simulation?\n",
    "In case you're not familiar with Monte Carlo the general idea is that you create a scenario and test the result many, many times to try to determine a probability distribution. So, we will create a \"room\" full of `n` people and see whether that room has a matching birthday. In this case, we can build that same room 10,000 times (really we just need some arbitrarily large number). As we'll see, if we create a room with 23 people having random birthdays 10,000 times, in about 5,000 of those rooms do we find a match."
   ]
  },
  {
   "cell_type": "code",
   "execution_count": 13,
   "metadata": {
    "collapsed": false
   },
   "outputs": [],
   "source": [
    "from datetime import datetime\n",
    "import random\n",
    "import numpy as np\n",
    "import pandas as pd\n",
    "from matplotlib import pyplot as plt\n",
    "plt.style.use('ggplot')"
   ]
  },
  {
   "cell_type": "markdown",
   "metadata": {},
   "source": [
    "Generate a birthday (an integer between 1 and 365)"
   ]
  },
  {
   "cell_type": "code",
   "execution_count": 14,
   "metadata": {
    "collapsed": true
   },
   "outputs": [],
   "source": [
    "def gen_bday():\n",
    "    bday = random.randint(1,365)\n",
    "    return bday"
   ]
  },
  {
   "cell_type": "markdown",
   "metadata": {},
   "source": [
    "For each room size from 2 person to 50 people (call this `n`), try \"building\" the room with that number of people 10,000 times. For each of the 10,000 rooms built for a given `n` how many of those rooms have at least 2 people with the same birthday?"
   ]
  },
  {
   "cell_type": "code",
   "execution_count": 22,
   "metadata": {
    "collapsed": false
   },
   "outputs": [],
   "source": [
    "prob_dict = {}\n",
    "for n in range(2, 50): \n",
    "    num_pers = n\n",
    "    success_count = 0\n",
    "    # run this 10000 per number of people in the room\n",
    "    for e in range(0,10000):\n",
    "        people = []\n",
    "        for e in range(num_pers):\n",
    "            people.append(gen_bday())\n",
    "        # there was a match then the set should be smaller than this `people` list\n",
    "        if len(people) > len(set(people)):\n",
    "            success_count += 1\n",
    "    prob_dict[n] = success_count/float(10000)"
   ]
  },
  {
   "cell_type": "code",
   "execution_count": 24,
   "metadata": {
    "collapsed": false
   },
   "outputs": [
    {
     "data": {
      "text/plain": [
       "{2: 0.0024,\n",
       " 3: 0.0084,\n",
       " 4: 0.0179,\n",
       " 5: 0.028,\n",
       " 6: 0.0422,\n",
       " 7: 0.0514,\n",
       " 8: 0.0716,\n",
       " 9: 0.094,\n",
       " 10: 0.1159,\n",
       " 11: 0.1426,\n",
       " 12: 0.1612,\n",
       " 13: 0.191,\n",
       " 14: 0.2241,\n",
       " 15: 0.2518,\n",
       " 16: 0.2838,\n",
       " 17: 0.3191,\n",
       " 18: 0.3497,\n",
       " 19: 0.3864,\n",
       " 20: 0.4075,\n",
       " 21: 0.4466,\n",
       " 22: 0.4837,\n",
       " 23: 0.5055,\n",
       " 24: 0.5442,\n",
       " 25: 0.5701,\n",
       " 26: 0.5964,\n",
       " 27: 0.6273,\n",
       " 28: 0.6533,\n",
       " 29: 0.6806,\n",
       " 30: 0.7124,\n",
       " 31: 0.729,\n",
       " 32: 0.7606,\n",
       " 33: 0.7725,\n",
       " 34: 0.7986,\n",
       " 35: 0.8209,\n",
       " 36: 0.827,\n",
       " 37: 0.8483,\n",
       " 38: 0.8684,\n",
       " 39: 0.8826,\n",
       " 40: 0.8907,\n",
       " 41: 0.9021,\n",
       " 42: 0.9129,\n",
       " 43: 0.9233,\n",
       " 44: 0.9328,\n",
       " 45: 0.939,\n",
       " 46: 0.9465,\n",
       " 47: 0.9561,\n",
       " 48: 0.9613,\n",
       " 49: 0.9648}"
      ]
     },
     "execution_count": 24,
     "metadata": {},
     "output_type": "execute_result"
    }
   ],
   "source": [
    "prob_dict"
   ]
  },
  {
   "cell_type": "markdown",
   "metadata": {},
   "source": [
    "Let's plot the results and see how this actually looks"
   ]
  },
  {
   "cell_type": "code",
   "execution_count": 17,
   "metadata": {
    "collapsed": false
   },
   "outputs": [],
   "source": [
    "df = pd.Series(prob_dict)"
   ]
  },
  {
   "cell_type": "code",
   "execution_count": 20,
   "metadata": {
    "collapsed": false
   },
   "outputs": [
    {
     "name": "stdout",
     "output_type": "stream",
     "text": [
      "Populating the interactive namespace from numpy and matplotlib\n"
     ]
    }
   ],
   "source": [
    "%pylab inline"
   ]
  },
  {
   "cell_type": "code",
   "execution_count": 21,
   "metadata": {
    "collapsed": false
   },
   "outputs": [
    {
     "data": {
      "text/plain": [
       "<matplotlib.text.Text at 0x116224080>"
      ]
     },
     "execution_count": 21,
     "metadata": {},
     "output_type": "execute_result"
    },
    {
     "data": {
      "image/png": "[encoded data removed]",
      "text/plain": [
       "<matplotlib.figure.Figure at 0x115c89208>"
      ]
     },
     "metadata": {},
     "output_type": "display_data"
    }
   ],
   "source": [
    "ax = df.plot(title='Probability that at least two people share a birthday', figsize=(12,6))\n",
    "ax.set_xlabel(\"Number of People\")\n",
    "ax.set_ylabel(\"Probability of match\")"
   ]
  }
 ],
 "metadata": {
  "kernelspec": {
   "display_name": "Python 3",
   "language": "python",
   "name": "python3"
  },
  "language_info": {
   "codemirror_mode": {
    "name": "ipython",
    "version": 3
   },
   "file_extension": ".py",
   "mimetype": "text/x-python",
   "name": "python",
   "nbconvert_exporter": "python",
   "pygments_lexer": "ipython3",
   "version": "3.5.3"
  }
 },
 "nbformat": 4,
 "nbformat_minor": 0
}
